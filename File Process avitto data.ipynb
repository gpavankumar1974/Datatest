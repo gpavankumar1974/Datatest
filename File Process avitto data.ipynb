{
 "cells": [
  {
   "cell_type": "code",
   "execution_count": 1,
   "metadata": {},
   "outputs": [
    {
     "name": "stdout",
     "output_type": "stream",
     "text": [
      "Hi2\n"
     ]
    }
   ],
   "source": [
    "#!E:\\DataScience\\python\n",
    "print(\"Hi2\")\n",
    "\n",
    "import pandas as pd\n",
    "import time\n",
    "import numpy as np\n",
    "import codecs\n",
    "import matplotlib as plt\n",
    "import matplotlib.pyplot as plt\n",
    "\n",
    "df = pd.read_csv(\"D:/Alex/train.csv\")\n",
    "#df = df.loc[:,[\"parent_category_name\",\"category_name\",\"deal_probability\"]]\n",
    "df = df.loc[:,[\"item_id\",\"price\",\"deal_probability\"]]\n",
    "\n",
    "file_nameOut =\"D:/Alex/train_price_deal.csv\"\n",
    "## df.to_csv(file_nameOut, sep=',', encoding='utf-16')  # if any russian text\n",
    "df.to_csv(file_nameOut, sep=',')\n",
    "\n",
    "# Create a Pandas Excel writer using XlsxWriter as the engine.\n",
    "writer = pd.ExcelWriter('D:/Alex/train_price_deal_xl.xlsx', engine='xlsxwriter')\n",
    "\n",
    "# Convert the dataframe to an XlsxWriter Excel object.\n",
    "df.to_excel(writer, sheet_name='Sheet1')\n",
    "\n",
    "# Close the Pandas Excel writer and output the Excel file.\n",
    "writer.save()http://localhost:8888/notebooks/Untitled.ipynb?kernel_name=python3#\n"
   ]
  },
  {
   "cell_type": "code",
   "execution_count": null,
   "metadata": {},
   "outputs": [],
   "source": []
  }
 ],
 "metadata": {
  "kernelspec": {
   "display_name": "Python 3",
   "language": "python",
   "name": "python3"
  },
  "language_info": {
   "codemirror_mode": {
    "name": "ipython",
    "version": 3
   },
   "file_extension": ".py",
   "mimetype": "text/x-python",
   "name": "python",
   "nbconvert_exporter": "python",
   "pygments_lexer": "ipython3",
   "version": "3.6.5"
  }
 },
 "nbformat": 4,
 "nbformat_minor": 2
}
